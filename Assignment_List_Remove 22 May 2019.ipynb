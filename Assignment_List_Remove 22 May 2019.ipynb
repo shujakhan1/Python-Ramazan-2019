{
 "cells": [
  {
   "cell_type": "code",
   "execution_count": 9,
   "metadata": {},
   "outputs": [
    {
     "name": "stdout",
     "output_type": "stream",
     "text": [
      "['Asif', 'Saleem', 'Hatim']\n"
     ]
    }
   ],
   "source": [
    "LoF = [\"Asif\", \"Amir\", \"Saleem\", \"Zia\", \"Hatim\", \"Tanveer\"]\n",
    "LoCF = [\"Asif\", \"Saleem\", \"Hatim\"]\n",
    "del LoF [1]\n",
    "del LoF [2]\n",
    "del LoF [3]\n",
    "print (LoF)"
   ]
  },
  {
   "cell_type": "code",
   "execution_count": 11,
   "metadata": {},
   "outputs": [
    {
     "name": "stdout",
     "output_type": "stream",
     "text": [
      "['Asif', 'Saleem', 'Hatim']\n"
     ]
    }
   ],
   "source": [
    "LoF = [\"Asif\", \"Amir\", \"Saleem\", \"Zia\", \"Hatim\", \"Tanveer\"]\n",
    "LoCF = [\"Asif\", \"Saleem\", \"Hatim\"]\n",
    "LoF.remove(\"Amir\")\n",
    "LoF.remove(\"Zia\")\n",
    "LoF.remove(\"Tanveer\")\n",
    "print (LoF)"
   ]
  },
  {
   "cell_type": "code",
   "execution_count": null,
   "metadata": {},
   "outputs": [],
   "source": []
  }
 ],
 "metadata": {
  "kernelspec": {
   "display_name": "Python 3",
   "language": "python",
   "name": "python3"
  },
  "language_info": {
   "codemirror_mode": {
    "name": "ipython",
    "version": 3
   },
   "file_extension": ".py",
   "mimetype": "text/x-python",
   "name": "python",
   "nbconvert_exporter": "python",
   "pygments_lexer": "ipython3",
   "version": "3.7.3"
  }
 },
 "nbformat": 4,
 "nbformat_minor": 2
}
